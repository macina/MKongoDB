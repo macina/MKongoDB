{
 "cells": [
  {
   "cell_type": "markdown",
   "metadata": {},
   "source": [
    "# Using pymongo"
   ]
  },
  {
   "cell_type": "markdown",
   "metadata": {},
   "source": [
    "https://zetcode.com/python/pymongo/ "
   ]
  },
  {
   "cell_type": "code",
   "execution_count": 1,
   "metadata": {},
   "outputs": [],
   "source": [
    "from pymongo import MongoClient\n",
    "client = MongoClient()\n",
    "# client = MongoClient('localhost', 27017)"
   ]
  },
  {
   "cell_type": "code",
   "execution_count": null,
   "metadata": {},
   "outputs": [],
   "source": []
  },
  {
   "cell_type": "code",
   "execution_count": 2,
   "metadata": {},
   "outputs": [],
   "source": [
    "# you can access a Database an an attribute \n",
    "db = client.pymongo_test\n",
    "\n",
    "# or you can use Dictionary style access\n",
    "#db = client['pymongo_test']"
   ]
  },
  {
   "cell_type": "code",
   "execution_count": 3,
   "metadata": {},
   "outputs": [
    {
     "name": "stdout",
     "output_type": "stream",
     "text": [
      "One post: 602fb796e218cd69a2f524fc\n"
     ]
    }
   ],
   "source": [
    "posts = db.posts\n",
    "post_data = {\n",
    "    'title': 'Python and MongoDB',\n",
    "    'content': 'PyMongo is fun, you guys',\n",
    "    'author': 'Scott'\n",
    "}\n",
    "result = posts.insert_one(post_data)\n",
    "print('One post: {0}'.format(result.inserted_id))"
   ]
  },
  {
   "cell_type": "code",
   "execution_count": 8,
   "metadata": {},
   "outputs": [
    {
     "name": "stdout",
     "output_type": "stream",
     "text": [
      "Multiple posts: [ObjectId('602fcac3e218cd69a2f52500'), ObjectId('602fcac3e218cd69a2f52501'), ObjectId('602fcac3e218cd69a2f52502')]\n"
     ]
    }
   ],
   "source": [
    "#Insert many documents at one time\n",
    "post_1 = {\n",
    "    'title': 'Python and MongoDB',\n",
    "    'content': 'PyMongo is fun, you guys',\n",
    "    'author': 'Scott'\n",
    "}\n",
    "post_2 = {\n",
    "    'title': 'Virtual Environments',\n",
    "    'content': 'Use virtual environments, you guys',\n",
    "    'author': 'Scott'\n",
    "}\n",
    "post_3 = {\n",
    "    'title': 'Learning Python',\n",
    "    'content': 'Learn Python, it is easy',\n",
    "    'author': 'Bill'\n",
    "}\n",
    "new_result = posts.insert_many([post_1, post_2, post_3])\n",
    "print('Multiple posts: {0}'.format(new_result.inserted_ids))"
   ]
  },
  {
   "cell_type": "markdown",
   "metadata": {},
   "source": [
    "## Retrieve a document"
   ]
  },
  {
   "cell_type": "code",
   "execution_count": 5,
   "metadata": {},
   "outputs": [
    {
     "name": "stdout",
     "output_type": "stream",
     "text": [
      "{'_id': ObjectId('602fca08e218cd69a2f524ff'), 'title': 'Learning Python', 'content': 'Learn Python, it is easy', 'author': 'Bill'}\n"
     ]
    }
   ],
   "source": [
    "bills_post = posts.find_one({'author': 'Bill'})\n",
    "print(bills_post)"
   ]
  },
  {
   "cell_type": "code",
   "execution_count": null,
   "metadata": {},
   "outputs": [],
   "source": [
    "## Retrieve multiple documents in a cursor"
   ]
  },
  {
   "cell_type": "code",
   "execution_count": 9,
   "metadata": {},
   "outputs": [
    {
     "name": "stdout",
     "output_type": "stream",
     "text": [
      "<pymongo.cursor.Cursor object at 0x000002C28DA4B7C8>\n"
     ]
    }
   ],
   "source": [
    "\n",
    "scotts_posts = posts.find({'author': 'Scott'})\n",
    "print(scotts_posts)\n",
    "\n"
   ]
  },
  {
   "cell_type": "code",
   "execution_count": 10,
   "metadata": {},
   "outputs": [
    {
     "name": "stdout",
     "output_type": "stream",
     "text": [
      "{'_id': ObjectId('602fb796e218cd69a2f524fc'), 'title': 'Python and MongoDB', 'content': 'PyMongo is fun, you guys', 'author': 'Scott'}\n",
      "{'_id': ObjectId('602fca08e218cd69a2f524fd'), 'title': 'Python and MongoDB', 'content': 'PyMongo is fun, you guys', 'author': 'Scott'}\n",
      "{'_id': ObjectId('602fca08e218cd69a2f524fe'), 'title': 'Virtual Environments', 'content': 'Use virtual environments, you guys', 'author': 'Scott'}\n",
      "{'_id': ObjectId('602fcac3e218cd69a2f52500'), 'title': 'Python and MongoDB', 'content': 'PyMongo is fun, you guys', 'author': 'Scott'}\n",
      "{'_id': ObjectId('602fcac3e218cd69a2f52501'), 'title': 'Virtual Environments', 'content': 'Use virtual environments, you guys', 'author': 'Scott'}\n"
     ]
    }
   ],
   "source": [
    "# iterate the cursor to get the element\n",
    "for post in scotts_posts:\n",
    "    print(post)"
   ]
  },
  {
   "cell_type": "markdown",
   "metadata": {},
   "source": [
    "In this simple model, we’ve told MongoEngine that we expect a Post instance to have a title, content, an author, and the date it was published. Now the base Document object can use that information to validate the data we provide it."
   ]
  },
  {
   "cell_type": "code",
   "execution_count": null,
   "metadata": {},
   "outputs": [],
   "source": []
  },
  {
   "cell_type": "code",
   "execution_count": null,
   "metadata": {},
   "outputs": [],
   "source": []
  },
  {
   "cell_type": "code",
   "execution_count": null,
   "metadata": {},
   "outputs": [],
   "source": []
  },
  {
   "cell_type": "code",
   "execution_count": null,
   "metadata": {},
   "outputs": [],
   "source": []
  },
  {
   "cell_type": "code",
   "execution_count": null,
   "metadata": {},
   "outputs": [],
   "source": []
  },
  {
   "cell_type": "code",
   "execution_count": null,
   "metadata": {},
   "outputs": [],
   "source": []
  },
  {
   "cell_type": "code",
   "execution_count": null,
   "metadata": {},
   "outputs": [],
   "source": []
  },
  {
   "cell_type": "code",
   "execution_count": 24,
   "metadata": {},
   "outputs": [],
   "source": [
    "from pymongo import MongoClient\n",
    "db = MongoClient().aggregation_example #database name\n",
    "result = db.things.insert_many([{\"x\": 1, \"tags\": [\"dog\", \"cat\"]},\n",
    "    {\"x\": 2, \"tags\": [\"cat\"]},\n",
    "    {\"x\": 2, \"tags\": [\"mouse\", \"cat\", \"dog\"]},\n",
    "    {\"x\": 3, \"tags\": []}])"
   ]
  },
  {
   "cell_type": "code",
   "execution_count": 27,
   "metadata": {},
   "outputs": [
    {
     "name": "stdout",
     "output_type": "stream",
     "text": [
      "{'_id': ObjectId('60322419e218cd69a2f52506'), 'x': 1, 'tags': ['dog', 'cat']}\n",
      "{'_id': ObjectId('60322419e218cd69a2f52507'), 'x': 2, 'tags': ['cat']}\n",
      "{'_id': ObjectId('60322419e218cd69a2f52508'), 'x': 2, 'tags': ['mouse', 'cat', 'dog']}\n",
      "{'_id': ObjectId('60322419e218cd69a2f52509'), 'x': 3, 'tags': []}\n",
      "{'_id': ObjectId('60324751e218cd69a2f5250b'), 'x': 1, 'tags': ['dog', 'cat']}\n",
      "{'_id': ObjectId('60324751e218cd69a2f5250c'), 'x': 2, 'tags': ['cat']}\n",
      "{'_id': ObjectId('60324751e218cd69a2f5250d'), 'x': 2, 'tags': ['mouse', 'cat', 'dog']}\n",
      "{'_id': ObjectId('60324751e218cd69a2f5250e'), 'x': 3, 'tags': []}\n"
     ]
    }
   ],
   "source": [
    "lista = db.things.find()\n",
    "for post in lista:\n",
    "    print(post)"
   ]
  },
  {
   "cell_type": "code",
   "execution_count": 36,
   "metadata": {},
   "outputs": [
    {
     "name": "stdout",
     "output_type": "stream",
     "text": [
      "{'_id': ObjectId('60322419e218cd69a2f52508'), 'x': 2, 'tags': ['mouse', 'cat', 'dog']}\n",
      "{'_id': ObjectId('60324751e218cd69a2f5250d'), 'x': 2, 'tags': ['mouse', 'cat', 'dog']}\n"
     ]
    }
   ],
   "source": [
    "lista = db.things.find({'tags': 'mouse'})\n",
    "for post in lista:\n",
    "    print(post)"
   ]
  },
  {
   "cell_type": "code",
   "execution_count": 38,
   "metadata": {},
   "outputs": [
    {
     "data": {
      "text/plain": [
       "<pymongo.cursor.Cursor at 0x2c28dc4acc8>"
      ]
     },
     "execution_count": 38,
     "metadata": {},
     "output_type": "execute_result"
    }
   ],
   "source": [
    "lista"
   ]
  },
  {
   "cell_type": "markdown",
   "metadata": {},
   "source": [
    "Aggregation Framework\n",
    "This example shows how to use the aggregate() method to use the aggregation framework. We’ll perform a simple aggregation to count the number of occurrences for each tag in the tags array, across the entire collection. To achieve this we need to pass in three operations to the pipeline. First, we need to unwind the tags array, then group by the tags and sum them up, finally we sort by count.\n",
    "\n",
    "As python dictionaries don’t maintain order you should use SON or collections.OrderedDict where explicit ordering is required eg “$sort”:"
   ]
  },
  {
   "cell_type": "code",
   "execution_count": 17,
   "metadata": {},
   "outputs": [
    {
     "name": "stdout",
     "output_type": "stream",
     "text": [
      "[{'_id': 'cat', 'count': 3},\n",
      " {'_id': 'dog', 'count': 2},\n",
      " {'_id': 'mouse', 'count': 1}]\n"
     ]
    }
   ],
   "source": [
    "from bson.son import SON\n",
    "pipeline = [\n",
    "    {\"$unwind\": \"$tags\"},\n",
    "    {\"$group\": {\"_id\": \"$tags\", \"count\": {\"$sum\": 1}}},\n",
    "    {\"$sort\": SON([(\"count\", -1), (\"_id\", -1)])}\n",
    " ]\n",
    "import pprint\n",
    "pprint.pprint(list(db.things.aggregate(pipeline)))"
   ]
  },
  {
   "cell_type": "code",
   "execution_count": 18,
   "metadata": {},
   "outputs": [
    {
     "data": {
      "text/plain": [
       "{'stages': [{'$cursor': {'queryPlanner': {'plannerVersion': 1,\n",
       "     'namespace': 'aggregation_example.things',\n",
       "     'indexFilterSet': False,\n",
       "     'parsedQuery': {},\n",
       "     'queryHash': 'EE638FFC',\n",
       "     'planCacheKey': 'EE638FFC',\n",
       "     'winningPlan': {'stage': 'PROJECTION_SIMPLE',\n",
       "      'transformBy': {'tags': 1, '_id': 0},\n",
       "      'inputStage': {'stage': 'COLLSCAN', 'direction': 'forward'}},\n",
       "     'rejectedPlans': []}}},\n",
       "  {'$unwind': {'path': '$tags'}},\n",
       "  {'$group': {'_id': '$tags', 'count': {'$sum': {'$const': 1}}}},\n",
       "  {'$sort': {'sortKey': {'count': -1, '_id': -1}}}],\n",
       " 'serverInfo': {'host': 'SAMSUNG-PC',\n",
       "  'port': 27017,\n",
       "  'version': '4.4.4',\n",
       "  'gitVersion': '8db30a63db1a9d84bdcad0c83369623f708e0397'},\n",
       " 'ok': 1.0}"
      ]
     },
     "execution_count": 18,
     "metadata": {},
     "output_type": "execute_result"
    }
   ],
   "source": [
    "db.command('aggregate', 'things', pipeline=pipeline, explain=True)"
   ]
  },
  {
   "cell_type": "code",
   "execution_count": null,
   "metadata": {},
   "outputs": [],
   "source": []
  },
  {
   "cell_type": "code",
   "execution_count": null,
   "metadata": {},
   "outputs": [],
   "source": []
  },
  {
   "cell_type": "code",
   "execution_count": null,
   "metadata": {},
   "outputs": [],
   "source": []
  },
  {
   "cell_type": "code",
   "execution_count": null,
   "metadata": {},
   "outputs": [],
   "source": []
  },
  {
   "cell_type": "code",
   "execution_count": null,
   "metadata": {},
   "outputs": [],
   "source": []
  }
 ],
 "metadata": {
  "kernelspec": {
   "display_name": "Python 3",
   "language": "python",
   "name": "python3"
  },
  "language_info": {
   "codemirror_mode": {
    "name": "ipython",
    "version": 3
   },
   "file_extension": ".py",
   "mimetype": "text/x-python",
   "name": "python",
   "nbconvert_exporter": "python",
   "pygments_lexer": "ipython3",
   "version": "3.7.7"
  }
 },
 "nbformat": 4,
 "nbformat_minor": 4
}
